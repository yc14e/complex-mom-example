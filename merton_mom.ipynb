{
 "cells": [
  {
   "cell_type": "markdown",
   "metadata": {},
   "source": [
    "# MOM on Merton's Jump Diffusion Model "
   ]
  },
  {
   "cell_type": "markdown",
   "metadata": {},
   "source": [
    "Under Merton's Jump diffusion model, the stock price is assumed to follow \n",
    "$$\n",
    "S_t = S_0 e^{\\left(\\mu - \\frac{\\sigma^2}{2}\\right)t + \\sigma W_t + \\sum_{i=1}^{N_t}X_i}, \n",
    "$$\n",
    "where $W_t$ is the standard Brownian motion, $N_t$ is the Poisson process with parameter $\\lambda$, and $X_i$'s are iid normal random variables with mean $\\alpha$ and variance $\\beta^2$. \n",
    "Note that this model has 5 parameters to estimate: $\\mu, \\sigma, \\lambda, \\alpha$ and $\\beta$. \n",
    "Given any integer $n$ and a fixed time horizon $T$, define $\\Delta t = T/n$ and $t_i = i\\Delta t$. \n",
    "Under Merton's assumption, the log return $R_i = \\log(S_{t_{i+1}}/S_{t_i})$ can be shown to be iid with MGF\n",
    "$$\n",
    "\\phi_R(u) = E\\left[e^{uR_i}\\right] = \\exp\\left(\\Delta t\\left[u\\left(\\mu - \\frac{\\sigma^2}{2}\\right) + \\frac{\\sigma^2 u^2}{2} + \\lambda\\left(e^{\\alpha u + \\frac{\\beta^2 u^2}{2}} - 1\\right)\\right]\\right), \n",
    "$$\n",
    "the $j$th derivative of which gives the raw moment $m_j$ of the log return. Below is the first 5: \n",
    "\\begin{align*}\n",
    "m_1 &= \\Delta t  \\left(\\alpha  \\lambda +\\mu -\\frac{\\sigma ^2}{2}\\right), \\\\\n",
    "m_2 &= \\Delta t  \\left(\\alpha ^2 \\lambda +\\Delta t  \\left(\\alpha  \\lambda +\\mu -\\frac{\\sigma^2}{2}\\right)^2+\\beta ^2 \\lambda +\\sigma ^2\\right), \\\\\n",
    "m_3 &= \\alpha ^3 \\lambda  \\Delta t +\\frac{3}{2} \\Delta t ^2 \\left(\\alpha ^2 \\lambda +\\beta ^2 \\lambda +\\sigma ^2\\right) \\left(2 \\alpha  \\lambda +2 \\mu -\\sigma ^2\\right)+3 \\alpha  \\beta ^2 \\lambda  \\Delta t +\\Delta t ^3 \\left(\\alpha  \\lambda +\\mu -\\frac{\\sigma ^2}{2}\\right)^3, \\\\\n",
    "m_4 &= \\frac{1}{2} \\Delta t  \\left(2 \\alpha ^4 \\lambda +3 \\Delta t ^2 \\left(\\alpha ^2 \\lambda +\\beta ^2\n",
    "   \\lambda +\\sigma ^2\\right) \\left(-2 \\alpha  \\lambda -2 \\mu +\\sigma ^2\\right)^2+4 \\alpha \n",
    "   \\lambda  \\Delta t  \\left(\\alpha ^2+3 \\beta ^2\\right) \\left(2 \\alpha  \\lambda +2 \\mu -\\sigma\n",
    "   ^2\\right)+6 \\Delta t  \\left(\\alpha ^2 \\lambda +\\beta ^2 \\lambda +\\sigma ^2\\right)^2+12 \\alpha\n",
    "   ^2 \\beta ^2 \\lambda +2 \\Delta t ^3 \\left(\\alpha  \\lambda +\\mu -\\frac{\\sigma ^2}{2}\\right)^4+6\n",
    "   \\beta ^4 \\lambda \\right), \\\\\n",
    "m_5 &= \\frac{1}{4} \\Delta t  \\left(4 \\alpha ^5 \\lambda +40 \\alpha ^3 \\beta ^2 \\lambda +5 \\Delta t ^3\n",
    "   \\left(\\alpha ^2 \\lambda +\\beta ^2 \\lambda +\\sigma ^2\\right) \\left(2 \\alpha  \\lambda +2 \\mu\n",
    "   -\\sigma ^2\\right)^3+10 \\alpha  \\lambda  \\Delta t ^2 \\left(\\alpha ^2+3 \\beta ^2\\right) \\left(-2\n",
    "   \\alpha  \\lambda -2 \\mu +\\sigma ^2\\right)^2+30 \\Delta t ^2 \\left(\\alpha ^2 \\lambda +\\beta ^2\n",
    "   \\lambda +\\sigma ^2\\right)^2 \\left(2 \\alpha  \\lambda +2 \\mu -\\sigma ^2\\right)+40 \\alpha \n",
    "   \\lambda  \\Delta t  \\left(\\alpha ^2+3 \\beta ^2\\right) \\left(\\alpha ^2 \\lambda +\\beta ^2 \\lambda\n",
    "   +\\sigma ^2\\right)+10 \\lambda  \\Delta t  \\left(\\alpha ^4+6 \\alpha ^2 \\beta ^2+3 \\beta ^4\\right)\n",
    "   \\left(2 \\alpha  \\lambda +2 \\mu -\\sigma ^2\\right)+60 \\alpha  \\beta ^4 \\lambda +4 \\Delta t ^4\n",
    "   \\left(\\alpha  \\lambda +\\mu -\\frac{\\sigma ^2}{2}\\right)^5\\right)   \n",
    "\\end{align*}\n",
    "Matching these formulas to the sample moments of the empirical log return, we get a high order polynomial equation (for example the last term of $m_5$ is of degree 14), and the solution could easily be complex numbers. \n",
    "I did an experiment years ago fitting S&P 500 log return to this model. The result is lost now but it does get complex numbers everywhere. \n",
    "\n"
   ]
  }
 ],
 "metadata": {
  "kernelspec": {
   "display_name": "Python 3",
   "language": "python",
   "name": "python3"
  },
  "language_info": {
   "codemirror_mode": {
    "name": "ipython",
    "version": 3
   },
   "file_extension": ".py",
   "mimetype": "text/x-python",
   "name": "python",
   "nbconvert_exporter": "python",
   "pygments_lexer": "ipython3",
   "version": "3.7.8"
  }
 },
 "nbformat": 4,
 "nbformat_minor": 4
}
